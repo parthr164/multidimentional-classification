{
 "cells": [
  {
   "cell_type": "code",
   "execution_count": 2,
   "id": "f51c40a8",
   "metadata": {},
   "outputs": [
    {
     "name": "stderr",
     "output_type": "stream",
     "text": [
      "c:\\users\\parth\\pycharmprojects\\jupyternotebook\\jupyter-venv\\lib\\site-packages\\xgboost\\compat.py:36: FutureWarning: pandas.Int64Index is deprecated and will be removed from pandas in a future version. Use pandas.Index with the appropriate dtype instead.\n",
      "  from pandas import MultiIndex, Int64Index\n"
     ]
    }
   ],
   "source": [
    "import pandas as pd\n",
    "import numpy as np\n",
    "import random as rnd\n",
    "\n",
    "import seaborn as sns\n",
    "import matplotlib.pyplot as plt\n",
    "%matplotlib inline\n",
    "\n",
    "from sklearn import feature_selection\n",
    "from sklearn.decomposition import PCA\n",
    "from imblearn.over_sampling import SMOTE\n",
    "\n",
    "from sklearn.model_selection import train_test_split\n",
    "from sklearn.metrics import accuracy_score, roc_auc_score\n",
    "from sklearn.model_selection import GridSearchCV, cross_val_score,StratifiedKFold\n",
    "from sklearn.preprocessing import StandardScaler\n",
    "\n",
    "from sklearn.pipeline import Pipeline\n",
    "from imblearn.pipeline import Pipeline as imb_pipe\n",
    "from sklearn.linear_model import LogisticRegression\n",
    "from sklearn.svm import SVC\n",
    "from sklearn.ensemble import RandomForestClassifier\n",
    "from sklearn.neighbors import KNeighborsClassifier\n",
    "from sklearn.naive_bayes import GaussianNB\n",
    "from sklearn.linear_model import SGDClassifier\n",
    "from sklearn.tree import DecisionTreeClassifier\n",
    "from xgboost import XGBClassifier"
   ]
  },
  {
   "cell_type": "code",
   "execution_count": 3,
   "id": "6468a275",
   "metadata": {},
   "outputs": [],
   "source": [
    "data = pd.read_csv('model.csv')\n",
    "test = pd.read_csv('val.csv')"
   ]
  },
  {
   "cell_type": "code",
   "execution_count": 4,
   "id": "be81fc31",
   "metadata": {},
   "outputs": [
    {
     "data": {
      "text/html": [
       "<div>\n",
       "<style scoped>\n",
       "    .dataframe tbody tr th:only-of-type {\n",
       "        vertical-align: middle;\n",
       "    }\n",
       "\n",
       "    .dataframe tbody tr th {\n",
       "        vertical-align: top;\n",
       "    }\n",
       "\n",
       "    .dataframe thead th {\n",
       "        text-align: right;\n",
       "    }\n",
       "</style>\n",
       "<table border=\"1\" class=\"dataframe\">\n",
       "  <thead>\n",
       "    <tr style=\"text-align: right;\">\n",
       "      <th></th>\n",
       "      <th>A1</th>\n",
       "      <th>A2</th>\n",
       "      <th>A3</th>\n",
       "      <th>A4</th>\n",
       "      <th>A5</th>\n",
       "      <th>A6</th>\n",
       "      <th>A7</th>\n",
       "      <th>A8</th>\n",
       "      <th>A9</th>\n",
       "      <th>A10</th>\n",
       "      <th>...</th>\n",
       "      <th>A22</th>\n",
       "      <th>A23</th>\n",
       "      <th>A24</th>\n",
       "      <th>A25</th>\n",
       "      <th>A26</th>\n",
       "      <th>A27</th>\n",
       "      <th>A28</th>\n",
       "      <th>A29</th>\n",
       "      <th>A30</th>\n",
       "      <th>default</th>\n",
       "    </tr>\n",
       "  </thead>\n",
       "  <tbody>\n",
       "    <tr>\n",
       "      <th>0</th>\n",
       "      <td>10.69</td>\n",
       "      <td>86.10</td>\n",
       "      <td>8920.16</td>\n",
       "      <td>19912.85</td>\n",
       "      <td>30.42</td>\n",
       "      <td>31.72</td>\n",
       "      <td>1.18</td>\n",
       "      <td>145.41</td>\n",
       "      <td>2.236</td>\n",
       "      <td>1.786</td>\n",
       "      <td>...</td>\n",
       "      <td>0.01</td>\n",
       "      <td>0.01</td>\n",
       "      <td>0.01</td>\n",
       "      <td>0.13</td>\n",
       "      <td>0.00</td>\n",
       "      <td>0.00</td>\n",
       "      <td>0.00</td>\n",
       "      <td>0.00</td>\n",
       "      <td>0.00</td>\n",
       "      <td>0</td>\n",
       "    </tr>\n",
       "    <tr>\n",
       "      <th>1</th>\n",
       "      <td>28.50</td>\n",
       "      <td>65.19</td>\n",
       "      <td>6564.00</td>\n",
       "      <td>6716.67</td>\n",
       "      <td>32.50</td>\n",
       "      <td>23.40</td>\n",
       "      <td>2.74</td>\n",
       "      <td>91.11</td>\n",
       "      <td>1.000</td>\n",
       "      <td>1.000</td>\n",
       "      <td>...</td>\n",
       "      <td>0.06</td>\n",
       "      <td>0.01</td>\n",
       "      <td>0.00</td>\n",
       "      <td>0.09</td>\n",
       "      <td>285.80</td>\n",
       "      <td>0.00</td>\n",
       "      <td>16.44</td>\n",
       "      <td>1.98</td>\n",
       "      <td>42.26</td>\n",
       "      <td>0</td>\n",
       "    </tr>\n",
       "    <tr>\n",
       "      <th>2</th>\n",
       "      <td>24.87</td>\n",
       "      <td>73.79</td>\n",
       "      <td>4285.47</td>\n",
       "      <td>6463.75</td>\n",
       "      <td>40.50</td>\n",
       "      <td>51.53</td>\n",
       "      <td>2.84</td>\n",
       "      <td>93.90</td>\n",
       "      <td>2.400</td>\n",
       "      <td>1.400</td>\n",
       "      <td>...</td>\n",
       "      <td>0.08</td>\n",
       "      <td>0.02</td>\n",
       "      <td>0.02</td>\n",
       "      <td>0.44</td>\n",
       "      <td>494.62</td>\n",
       "      <td>135.41</td>\n",
       "      <td>127.45</td>\n",
       "      <td>46.00</td>\n",
       "      <td>14.92</td>\n",
       "      <td>0</td>\n",
       "    </tr>\n",
       "    <tr>\n",
       "      <th>3</th>\n",
       "      <td>13.64</td>\n",
       "      <td>85.82</td>\n",
       "      <td>6887.56</td>\n",
       "      <td>9244.44</td>\n",
       "      <td>49.56</td>\n",
       "      <td>53.44</td>\n",
       "      <td>0.36</td>\n",
       "      <td>171.45</td>\n",
       "      <td>1.875</td>\n",
       "      <td>2.167</td>\n",
       "      <td>...</td>\n",
       "      <td>0.03</td>\n",
       "      <td>0.01</td>\n",
       "      <td>0.00</td>\n",
       "      <td>0.05</td>\n",
       "      <td>1015.19</td>\n",
       "      <td>0.00</td>\n",
       "      <td>210.63</td>\n",
       "      <td>92.58</td>\n",
       "      <td>0.00</td>\n",
       "      <td>0</td>\n",
       "    </tr>\n",
       "    <tr>\n",
       "      <th>4</th>\n",
       "      <td>4.50</td>\n",
       "      <td>95.92</td>\n",
       "      <td>8746.50</td>\n",
       "      <td>19987.50</td>\n",
       "      <td>32.75</td>\n",
       "      <td>37.88</td>\n",
       "      <td>0.92</td>\n",
       "      <td>153.25</td>\n",
       "      <td>2.000</td>\n",
       "      <td>1.500</td>\n",
       "      <td>...</td>\n",
       "      <td>0.01</td>\n",
       "      <td>0.00</td>\n",
       "      <td>0.00</td>\n",
       "      <td>0.04</td>\n",
       "      <td>0.00</td>\n",
       "      <td>106.41</td>\n",
       "      <td>79.00</td>\n",
       "      <td>0.00</td>\n",
       "      <td>0.00</td>\n",
       "      <td>0</td>\n",
       "    </tr>\n",
       "  </tbody>\n",
       "</table>\n",
       "<p>5 rows × 31 columns</p>\n",
       "</div>"
      ],
      "text/plain": [
       "      A1     A2       A3        A4     A5     A6    A7      A8     A9    A10  \\\n",
       "0  10.69  86.10  8920.16  19912.85  30.42  31.72  1.18  145.41  2.236  1.786   \n",
       "1  28.50  65.19  6564.00   6716.67  32.50  23.40  2.74   91.11  1.000  1.000   \n",
       "2  24.87  73.79  4285.47   6463.75  40.50  51.53  2.84   93.90  2.400  1.400   \n",
       "3  13.64  85.82  6887.56   9244.44  49.56  53.44  0.36  171.45  1.875  2.167   \n",
       "4   4.50  95.92  8746.50  19987.50  32.75  37.88  0.92  153.25  2.000  1.500   \n",
       "\n",
       "   ...   A22   A23   A24   A25      A26     A27     A28    A29    A30  default  \n",
       "0  ...  0.01  0.01  0.01  0.13     0.00    0.00    0.00   0.00   0.00        0  \n",
       "1  ...  0.06  0.01  0.00  0.09   285.80    0.00   16.44   1.98  42.26        0  \n",
       "2  ...  0.08  0.02  0.02  0.44   494.62  135.41  127.45  46.00  14.92        0  \n",
       "3  ...  0.03  0.01  0.00  0.05  1015.19    0.00  210.63  92.58   0.00        0  \n",
       "4  ...  0.01  0.00  0.00  0.04     0.00  106.41   79.00   0.00   0.00        0  \n",
       "\n",
       "[5 rows x 31 columns]"
      ]
     },
     "execution_count": 4,
     "metadata": {},
     "output_type": "execute_result"
    }
   ],
   "source": [
    "data.head()"
   ]
  },
  {
   "cell_type": "code",
   "execution_count": 5,
   "id": "ec291cb3",
   "metadata": {},
   "outputs": [
    {
     "name": "stdout",
     "output_type": "stream",
     "text": [
      "Train set shape:  (94000, 31)\n",
      "Test set shape:  (11500, 31)\n"
     ]
    }
   ],
   "source": [
    "# Shape of training and testing dataset\n",
    "print(\"Train set shape: \", data.shape)\n",
    "print(\"Test set shape: \", test.shape)"
   ]
  },
  {
   "cell_type": "code",
   "execution_count": 6,
   "id": "a79c523b",
   "metadata": {},
   "outputs": [
    {
     "data": {
      "text/html": [
       "<div>\n",
       "<style scoped>\n",
       "    .dataframe tbody tr th:only-of-type {\n",
       "        vertical-align: middle;\n",
       "    }\n",
       "\n",
       "    .dataframe tbody tr th {\n",
       "        vertical-align: top;\n",
       "    }\n",
       "\n",
       "    .dataframe thead th {\n",
       "        text-align: right;\n",
       "    }\n",
       "</style>\n",
       "<table border=\"1\" class=\"dataframe\">\n",
       "  <thead>\n",
       "    <tr style=\"text-align: right;\">\n",
       "      <th></th>\n",
       "      <th>A1</th>\n",
       "      <th>A2</th>\n",
       "      <th>A3</th>\n",
       "      <th>A4</th>\n",
       "      <th>A5</th>\n",
       "      <th>A6</th>\n",
       "      <th>A7</th>\n",
       "      <th>A8</th>\n",
       "      <th>A9</th>\n",
       "      <th>A10</th>\n",
       "      <th>...</th>\n",
       "      <th>A22</th>\n",
       "      <th>A23</th>\n",
       "      <th>A24</th>\n",
       "      <th>A25</th>\n",
       "      <th>A26</th>\n",
       "      <th>A27</th>\n",
       "      <th>A28</th>\n",
       "      <th>A29</th>\n",
       "      <th>A30</th>\n",
       "      <th>default</th>\n",
       "    </tr>\n",
       "  </thead>\n",
       "  <tbody>\n",
       "    <tr>\n",
       "      <th>count</th>\n",
       "      <td>94000.000000</td>\n",
       "      <td>94000.000000</td>\n",
       "      <td>94000.000000</td>\n",
       "      <td>94000.000000</td>\n",
       "      <td>94000.000000</td>\n",
       "      <td>94000.000000</td>\n",
       "      <td>94000.000000</td>\n",
       "      <td>94000.000000</td>\n",
       "      <td>94000.000000</td>\n",
       "      <td>94000.000000</td>\n",
       "      <td>...</td>\n",
       "      <td>94000.000000</td>\n",
       "      <td>94000.000000</td>\n",
       "      <td>94000.000000</td>\n",
       "      <td>94000.000000</td>\n",
       "      <td>94000.000000</td>\n",
       "      <td>94000.000000</td>\n",
       "      <td>94000.000000</td>\n",
       "      <td>94000.000000</td>\n",
       "      <td>94000.000000</td>\n",
       "      <td>94000.000000</td>\n",
       "    </tr>\n",
       "    <tr>\n",
       "      <th>mean</th>\n",
       "      <td>12.134211</td>\n",
       "      <td>83.838361</td>\n",
       "      <td>7319.620881</td>\n",
       "      <td>13449.501569</td>\n",
       "      <td>33.507640</td>\n",
       "      <td>36.983300</td>\n",
       "      <td>1.518232</td>\n",
       "      <td>124.108845</td>\n",
       "      <td>1.697824</td>\n",
       "      <td>1.407075</td>\n",
       "      <td>...</td>\n",
       "      <td>0.074435</td>\n",
       "      <td>0.008550</td>\n",
       "      <td>0.013537</td>\n",
       "      <td>0.133531</td>\n",
       "      <td>290.756534</td>\n",
       "      <td>357.976444</td>\n",
       "      <td>103.482568</td>\n",
       "      <td>28.847016</td>\n",
       "      <td>38.509910</td>\n",
       "      <td>0.042553</td>\n",
       "    </tr>\n",
       "    <tr>\n",
       "      <th>std</th>\n",
       "      <td>6.587858</td>\n",
       "      <td>8.672843</td>\n",
       "      <td>2652.539364</td>\n",
       "      <td>8197.452662</td>\n",
       "      <td>11.906865</td>\n",
       "      <td>14.209314</td>\n",
       "      <td>1.007398</td>\n",
       "      <td>33.130292</td>\n",
       "      <td>0.776810</td>\n",
       "      <td>0.652138</td>\n",
       "      <td>...</td>\n",
       "      <td>0.138356</td>\n",
       "      <td>0.020052</td>\n",
       "      <td>0.029078</td>\n",
       "      <td>0.156658</td>\n",
       "      <td>471.958770</td>\n",
       "      <td>597.594147</td>\n",
       "      <td>136.248095</td>\n",
       "      <td>62.759062</td>\n",
       "      <td>90.882963</td>\n",
       "      <td>0.201849</td>\n",
       "    </tr>\n",
       "    <tr>\n",
       "      <th>min</th>\n",
       "      <td>0.000000</td>\n",
       "      <td>20.750000</td>\n",
       "      <td>0.000000</td>\n",
       "      <td>0.000000</td>\n",
       "      <td>0.000000</td>\n",
       "      <td>0.000000</td>\n",
       "      <td>0.000000</td>\n",
       "      <td>0.000000</td>\n",
       "      <td>0.000000</td>\n",
       "      <td>0.000000</td>\n",
       "      <td>...</td>\n",
       "      <td>-0.010000</td>\n",
       "      <td>-0.020000</td>\n",
       "      <td>-0.020000</td>\n",
       "      <td>0.000000</td>\n",
       "      <td>-751.260000</td>\n",
       "      <td>-405.370000</td>\n",
       "      <td>-616.230000</td>\n",
       "      <td>-490.160000</td>\n",
       "      <td>-719.720000</td>\n",
       "      <td>0.000000</td>\n",
       "    </tr>\n",
       "    <tr>\n",
       "      <th>25%</th>\n",
       "      <td>7.670000</td>\n",
       "      <td>79.000000</td>\n",
       "      <td>5618.627500</td>\n",
       "      <td>8700.000000</td>\n",
       "      <td>26.880000</td>\n",
       "      <td>28.780000</td>\n",
       "      <td>0.820000</td>\n",
       "      <td>103.027500</td>\n",
       "      <td>1.272000</td>\n",
       "      <td>1.000000</td>\n",
       "      <td>...</td>\n",
       "      <td>0.010000</td>\n",
       "      <td>0.000000</td>\n",
       "      <td>0.000000</td>\n",
       "      <td>0.060000</td>\n",
       "      <td>0.000000</td>\n",
       "      <td>0.000000</td>\n",
       "      <td>14.970000</td>\n",
       "      <td>0.000000</td>\n",
       "      <td>0.000000</td>\n",
       "      <td>0.000000</td>\n",
       "    </tr>\n",
       "    <tr>\n",
       "      <th>50%</th>\n",
       "      <td>12.020000</td>\n",
       "      <td>84.360000</td>\n",
       "      <td>7285.590000</td>\n",
       "      <td>11862.650000</td>\n",
       "      <td>32.770000</td>\n",
       "      <td>35.940000</td>\n",
       "      <td>1.420000</td>\n",
       "      <td>127.240000</td>\n",
       "      <td>1.667000</td>\n",
       "      <td>1.399000</td>\n",
       "      <td>...</td>\n",
       "      <td>0.030000</td>\n",
       "      <td>0.000000</td>\n",
       "      <td>0.010000</td>\n",
       "      <td>0.090000</td>\n",
       "      <td>115.140000</td>\n",
       "      <td>102.265000</td>\n",
       "      <td>59.350000</td>\n",
       "      <td>10.500000</td>\n",
       "      <td>0.000000</td>\n",
       "      <td>0.000000</td>\n",
       "    </tr>\n",
       "    <tr>\n",
       "      <th>75%</th>\n",
       "      <td>16.080000</td>\n",
       "      <td>89.670000</td>\n",
       "      <td>8780.870000</td>\n",
       "      <td>15896.575000</td>\n",
       "      <td>39.100000</td>\n",
       "      <td>43.830000</td>\n",
       "      <td>2.020000</td>\n",
       "      <td>143.100000</td>\n",
       "      <td>2.064000</td>\n",
       "      <td>1.714000</td>\n",
       "      <td>...</td>\n",
       "      <td>0.080000</td>\n",
       "      <td>0.010000</td>\n",
       "      <td>0.010000</td>\n",
       "      <td>0.140000</td>\n",
       "      <td>380.142500</td>\n",
       "      <td>485.880000</td>\n",
       "      <td>140.952500</td>\n",
       "      <td>34.860000</td>\n",
       "      <td>49.862500</td>\n",
       "      <td>0.000000</td>\n",
       "    </tr>\n",
       "    <tr>\n",
       "      <th>max</th>\n",
       "      <td>62.710000</td>\n",
       "      <td>100.000000</td>\n",
       "      <td>26333.500000</td>\n",
       "      <td>170300.000000</td>\n",
       "      <td>146.000000</td>\n",
       "      <td>146.000000</td>\n",
       "      <td>18.670000</td>\n",
       "      <td>524.000000</td>\n",
       "      <td>44.000000</td>\n",
       "      <td>44.000000</td>\n",
       "      <td>...</td>\n",
       "      <td>5.300000</td>\n",
       "      <td>0.700000</td>\n",
       "      <td>1.690000</td>\n",
       "      <td>4.080000</td>\n",
       "      <td>15288.660000</td>\n",
       "      <td>19503.760000</td>\n",
       "      <td>3265.980000</td>\n",
       "      <td>6561.930000</td>\n",
       "      <td>13487.000000</td>\n",
       "      <td>1.000000</td>\n",
       "    </tr>\n",
       "  </tbody>\n",
       "</table>\n",
       "<p>8 rows × 31 columns</p>\n",
       "</div>"
      ],
      "text/plain": [
       "                 A1            A2            A3             A4            A5  \\\n",
       "count  94000.000000  94000.000000  94000.000000   94000.000000  94000.000000   \n",
       "mean      12.134211     83.838361   7319.620881   13449.501569     33.507640   \n",
       "std        6.587858      8.672843   2652.539364    8197.452662     11.906865   \n",
       "min        0.000000     20.750000      0.000000       0.000000      0.000000   \n",
       "25%        7.670000     79.000000   5618.627500    8700.000000     26.880000   \n",
       "50%       12.020000     84.360000   7285.590000   11862.650000     32.770000   \n",
       "75%       16.080000     89.670000   8780.870000   15896.575000     39.100000   \n",
       "max       62.710000    100.000000  26333.500000  170300.000000    146.000000   \n",
       "\n",
       "                 A6            A7            A8            A9           A10  \\\n",
       "count  94000.000000  94000.000000  94000.000000  94000.000000  94000.000000   \n",
       "mean      36.983300      1.518232    124.108845      1.697824      1.407075   \n",
       "std       14.209314      1.007398     33.130292      0.776810      0.652138   \n",
       "min        0.000000      0.000000      0.000000      0.000000      0.000000   \n",
       "25%       28.780000      0.820000    103.027500      1.272000      1.000000   \n",
       "50%       35.940000      1.420000    127.240000      1.667000      1.399000   \n",
       "75%       43.830000      2.020000    143.100000      2.064000      1.714000   \n",
       "max      146.000000     18.670000    524.000000     44.000000     44.000000   \n",
       "\n",
       "       ...           A22           A23           A24           A25  \\\n",
       "count  ...  94000.000000  94000.000000  94000.000000  94000.000000   \n",
       "mean   ...      0.074435      0.008550      0.013537      0.133531   \n",
       "std    ...      0.138356      0.020052      0.029078      0.156658   \n",
       "min    ...     -0.010000     -0.020000     -0.020000      0.000000   \n",
       "25%    ...      0.010000      0.000000      0.000000      0.060000   \n",
       "50%    ...      0.030000      0.000000      0.010000      0.090000   \n",
       "75%    ...      0.080000      0.010000      0.010000      0.140000   \n",
       "max    ...      5.300000      0.700000      1.690000      4.080000   \n",
       "\n",
       "                A26           A27           A28           A29           A30  \\\n",
       "count  94000.000000  94000.000000  94000.000000  94000.000000  94000.000000   \n",
       "mean     290.756534    357.976444    103.482568     28.847016     38.509910   \n",
       "std      471.958770    597.594147    136.248095     62.759062     90.882963   \n",
       "min     -751.260000   -405.370000   -616.230000   -490.160000   -719.720000   \n",
       "25%        0.000000      0.000000     14.970000      0.000000      0.000000   \n",
       "50%      115.140000    102.265000     59.350000     10.500000      0.000000   \n",
       "75%      380.142500    485.880000    140.952500     34.860000     49.862500   \n",
       "max    15288.660000  19503.760000   3265.980000   6561.930000  13487.000000   \n",
       "\n",
       "            default  \n",
       "count  94000.000000  \n",
       "mean       0.042553  \n",
       "std        0.201849  \n",
       "min        0.000000  \n",
       "25%        0.000000  \n",
       "50%        0.000000  \n",
       "75%        0.000000  \n",
       "max        1.000000  \n",
       "\n",
       "[8 rows x 31 columns]"
      ]
     },
     "execution_count": 6,
     "metadata": {},
     "output_type": "execute_result"
    }
   ],
   "source": [
    "data.describe()"
   ]
  },
  {
   "cell_type": "code",
   "execution_count": 7,
   "id": "ca7b4967",
   "metadata": {},
   "outputs": [
    {
     "data": {
      "text/plain": [
       "A1         0\n",
       "A2         0\n",
       "A3         0\n",
       "A4         0\n",
       "A5         0\n",
       "A6         0\n",
       "A7         0\n",
       "A8         0\n",
       "A9         0\n",
       "A10        0\n",
       "A11        0\n",
       "A12        0\n",
       "A13        0\n",
       "A14        0\n",
       "A15        0\n",
       "A16        0\n",
       "A17        0\n",
       "A18        0\n",
       "A19        0\n",
       "A20        0\n",
       "A21        0\n",
       "A22        0\n",
       "A23        0\n",
       "A24        0\n",
       "A25        0\n",
       "A26        0\n",
       "A27        0\n",
       "A28        0\n",
       "A29        0\n",
       "A30        0\n",
       "default    0\n",
       "dtype: int64"
      ]
     },
     "execution_count": 7,
     "metadata": {},
     "output_type": "execute_result"
    }
   ],
   "source": [
    "# Confirming no null values exist\n",
    "data.isnull().sum()"
   ]
  },
  {
   "cell_type": "markdown",
   "id": "adcf27a2",
   "metadata": {},
   "source": [
    "We see here that there are no null values. All the columns are filled."
   ]
  },
  {
   "cell_type": "code",
   "execution_count": 8,
   "id": "6eaaef59",
   "metadata": {
    "scrolled": false
   },
   "outputs": [
    {
     "data": {
      "image/png": "[encoded data removed]",
      "text/plain": [
       "<Figure size 1296x1080 with 36 Axes>"
      ]
     },
     "metadata": {
      "needs_background": "light"
     },
     "output_type": "display_data"
    }
   ],
   "source": [
    "# Plotting histograms for all the variables\n",
    "data.hist(figsize = (18,15))\n",
    "plt.show()"
   ]
  },
  {
   "cell_type": "markdown",
   "id": "726c5c5f",
   "metadata": {},
   "source": [
    "We see a number of columns with similar distribution. We will need to look into the correltion of the columns with each other. We can also see that the target variable *default* has a high number of 0's (no default) and very less 1's (default) data points. We will need to handle this in order to avoid miscalculation of accuracy."
   ]
  },
  {
   "cell_type": "code",
   "execution_count": 9,
   "id": "c06a630c",
   "metadata": {},
   "outputs": [
    {
     "data": {
      "text/plain": [
       "0    90000\n",
       "1     4000\n",
       "Name: default, dtype: int64"
      ]
     },
     "execution_count": 9,
     "metadata": {},
     "output_type": "execute_result"
    }
   ],
   "source": [
    "# Checking the number of data points for each class in the target variable\n",
    "data['default'].value_counts()"
   ]
  },
  {
   "cell_type": "markdown",
   "id": "fe540b8c",
   "metadata": {},
   "source": [
    "We have 90000 examples of non-defaulters and only 4000 example of defaulters."
   ]
  },
  {
   "cell_type": "code",
   "execution_count": null,
   "id": "a3cca0a0",
   "metadata": {},
   "outputs": [],
   "source": []
  },
  {
   "cell_type": "code",
   "execution_count": 10,
   "id": "4d0bb429",
   "metadata": {},
   "outputs": [
    {
     "data": {
      "text/plain": [
       "default    1.000000\n",
       "A1         0.224554\n",
       "A5         0.180650\n",
       "A6         0.178333\n",
       "A7         0.166574\n",
       "A13        0.150537\n",
       "A16        0.137719\n",
       "A14        0.126551\n",
       "A18        0.122664\n",
       "A19        0.113143\n",
       "Name: default, dtype: float64"
      ]
     },
     "execution_count": 10,
     "metadata": {},
     "output_type": "execute_result"
    }
   ],
   "source": [
    "# Finding correlation of columns with the target\n",
    "data_corr = data.corr()\n",
    "data_corr['default'].sort_values(ascending=False).head(10)"
   ]
  },
  {
   "cell_type": "code",
   "execution_count": 11,
   "id": "e5eebc41",
   "metadata": {},
   "outputs": [],
   "source": [
    "X = data.drop(['default'], axis = 1)\n",
    "y = data['default']"
   ]
  },
  {
   "cell_type": "code",
   "execution_count": 12,
   "id": "2ee931a6",
   "metadata": {},
   "outputs": [
    {
     "name": "stderr",
     "output_type": "stream",
     "text": [
      "C:\\Users\\parth\\AppData\\Local\\Temp/ipykernel_16968/3239813396.py:4: DeprecationWarning: `np.bool` is a deprecated alias for the builtin `bool`. To silence this warning, use `bool` by itself. Doing this will not modify any behavior and is safe. If you specifically wanted the numpy scalar type, use `np.bool_` here.\n",
      "Deprecated in NumPy 1.20; for more details and guidance: https://numpy.org/devdocs/release/1.20.0-notes.html#deprecations\n",
      "  mask = np.zeros_like(corr, dtype=np.bool)\n"
     ]
    },
    {
     "data": {
      "text/plain": [
       "<AxesSubplot:>"
      ]
     },
     "execution_count": 12,
     "metadata": {},
     "output_type": "execute_result"
    },
    {
     "data": {
      "image/png": "[encoded data removed]",
      "text/plain": [
       "<Figure size 864x864 with 2 Axes>"
      ]
     },
     "metadata": {
      "needs_background": "light"
     },
     "output_type": "display_data"
    }
   ],
   "source": [
    "# Visualizing correlation between the variables\n",
    "corr = X.corr()\n",
    "\n",
    "mask = np.zeros_like(corr, dtype=np.bool)\n",
    "mask[np.triu_indices_from(mask)] = True\n",
    "\n",
    "f, ax = plt.subplots(figsize=(12, 12))\n",
    "cmap = sns.diverging_palette(210, 10, as_cmap=True)\n",
    "sns.heatmap(corr, mask=mask, cmap=cmap, square = True, center = 0, linewidths=.5, ax=ax)"
   ]
  },
  {
   "cell_type": "markdown",
   "id": "53f62177",
   "metadata": {},
   "source": [
    "We see a number of columns to be correlated with each other. There are 30 columns, we can work on some form of feature selection."
   ]
  },
  {
   "cell_type": "code",
   "execution_count": null,
   "id": "f4cb9993",
   "metadata": {},
   "outputs": [],
   "source": []
  },
  {
   "cell_type": "code",
   "execution_count": 13,
   "id": "bc1ffdca",
   "metadata": {},
   "outputs": [
    {
     "data": {
      "text/plain": [
       "(94000, 20)"
      ]
     },
     "execution_count": 13,
     "metadata": {},
     "output_type": "execute_result"
    }
   ],
   "source": [
    "# Testing PCA to bring down the number of components to 25\n",
    "pca = PCA(n_components=20, random_state = 25)\n",
    "\n",
    "principal_components = pca.fit_transform(X)\n",
    "principal_df = pd.DataFrame(data = principal_components)\n",
    "principal_df.shape"
   ]
  },
  {
   "cell_type": "code",
   "execution_count": 14,
   "id": "37aba342",
   "metadata": {},
   "outputs": [
    {
     "name": "stderr",
     "output_type": "stream",
     "text": [
      "C:\\Users\\parth\\AppData\\Local\\Temp/ipykernel_16968/3846595814.py:4: DeprecationWarning: `np.bool` is a deprecated alias for the builtin `bool`. To silence this warning, use `bool` by itself. Doing this will not modify any behavior and is safe. If you specifically wanted the numpy scalar type, use `np.bool_` here.\n",
      "Deprecated in NumPy 1.20; for more details and guidance: https://numpy.org/devdocs/release/1.20.0-notes.html#deprecations\n",
      "  mask = np.zeros_like(corr, dtype=np.bool)\n"
     ]
    },
    {
     "data": {
      "text/plain": [
       "<AxesSubplot:>"
      ]
     },
     "execution_count": 14,
     "metadata": {},
     "output_type": "execute_result"
    },
    {
     "data": {
      "image/png": "[encoded data removed]",
      "text/plain": [
       "<Figure size 864x864 with 2 Axes>"
      ]
     },
     "metadata": {
      "needs_background": "light"
     },
     "output_type": "display_data"
    }
   ],
   "source": [
    "# Visualizing correlation between the variables\n",
    "corr = principal_df.corr()\n",
    "\n",
    "mask = np.zeros_like(corr, dtype=np.bool)\n",
    "mask[np.triu_indices_from(mask)] = True\n",
    "\n",
    "f, ax = plt.subplots(figsize=(12, 12))\n",
    "cmap = sns.diverging_palette(210, 10, as_cmap=True)\n",
    "sns.heatmap(corr, mask=mask, cmap=cmap, square = True, center = 0, linewidths=.5, ax=ax)"
   ]
  },
  {
   "cell_type": "markdown",
   "id": "1b528bb5",
   "metadata": {},
   "source": [
    "We see that decreasing the number of compnents to 20 from 30 brings down the corrrelation between the columns significantly. But we will need a more robust was to select the number of components we must use for our final model."
   ]
  },
  {
   "cell_type": "markdown",
   "id": "f02475c9",
   "metadata": {},
   "source": [
    "### Fitting a Logistic Regression Pipeline"
   ]
  },
  {
   "cell_type": "code",
   "execution_count": 42,
   "id": "ad0f8434",
   "metadata": {},
   "outputs": [],
   "source": [
    "# Splitting the data\n",
    "X_train, X_test, y_train, y_test = train_test_split(X, y, test_size=0.15, stratify=y, random_state=12)"
   ]
  },
  {
   "cell_type": "code",
   "execution_count": 43,
   "id": "4dbef084",
   "metadata": {},
   "outputs": [
    {
     "name": "stdout",
     "output_type": "stream",
     "text": [
      "(79900, 30)\n",
      "(14100, 30)\n"
     ]
    }
   ],
   "source": [
    "print(X_train.shape)\n",
    "print(X_test.shape)"
   ]
  },
  {
   "cell_type": "code",
   "execution_count": 73,
   "id": "ef87af18",
   "metadata": {},
   "outputs": [],
   "source": [
    "# Creating a table to track results\n",
    "results = pd.DataFrame(columns=[\"Experiment Name\", \"Cross fold train AUC\", \"Val AUC\"])"
   ]
  },
  {
   "cell_type": "code",
   "execution_count": 44,
   "id": "ddabcdba",
   "metadata": {},
   "outputs": [
    {
     "name": "stdout",
     "output_type": "stream",
     "text": [
      "Fitting 5 folds for each of 96 candidates, totalling 480 fits\n"
     ]
    },
    {
     "name": "stderr",
     "output_type": "stream",
     "text": [
      "c:\\users\\parth\\pycharmprojects\\jupyternotebook\\jupyter-venv\\lib\\site-packages\\sklearn\\model_selection\\_validation.py:372: FitFailedWarning: \n",
      "240 fits failed out of a total of 480.\n",
      "The score on these train-test partitions for these parameters will be set to nan.\n",
      "If these failures are not expected, you can try to debug them by setting error_score='raise'.\n",
      "\n",
      "Below are more details about the failures:\n",
      "--------------------------------------------------------------------------------\n",
      "240 fits failed with the following error:\n",
      "Traceback (most recent call last):\n",
      "  File \"c:\\users\\parth\\pycharmprojects\\jupyternotebook\\jupyter-venv\\lib\\site-packages\\sklearn\\model_selection\\_validation.py\", line 680, in _fit_and_score\n",
      "    estimator.fit(X_train, y_train, **fit_params)\n",
      "  File \"c:\\users\\parth\\pycharmprojects\\jupyternotebook\\jupyter-venv\\lib\\site-packages\\imblearn\\pipeline.py\", line 272, in fit\n",
      "    self._final_estimator.fit(Xt, yt, **fit_params_last_step)\n",
      "  File \"c:\\users\\parth\\pycharmprojects\\jupyternotebook\\jupyter-venv\\lib\\site-packages\\sklearn\\linear_model\\_logistic.py\", line 1461, in fit\n",
      "    solver = _check_solver(self.solver, self.penalty, self.dual)\n",
      "  File \"c:\\users\\parth\\pycharmprojects\\jupyternotebook\\jupyter-venv\\lib\\site-packages\\sklearn\\linear_model\\_logistic.py\", line 447, in _check_solver\n",
      "    raise ValueError(\n",
      "ValueError: Solver lbfgs supports only 'l2' or 'none' penalties, got l1 penalty.\n",
      "\n",
      "  warnings.warn(some_fits_failed_message, FitFailedWarning)\n",
      "c:\\users\\parth\\pycharmprojects\\jupyternotebook\\jupyter-venv\\lib\\site-packages\\sklearn\\model_selection\\_search.py:969: UserWarning: One or more of the test scores are non-finite: [       nan        nan        nan 0.80398426 0.80392038 0.80397359\n",
      "        nan        nan        nan 0.80394195 0.80402343 0.80397213\n",
      "        nan        nan        nan 0.80384173 0.80393429 0.80405073\n",
      "        nan        nan        nan 0.8039336  0.80383122 0.80393604\n",
      "        nan        nan        nan 0.80530219 0.80538353 0.80533491\n",
      "        nan        nan        nan 0.80536574 0.80543825 0.8054089\n",
      "        nan        nan        nan 0.80545663 0.80549471 0.80537953\n",
      "        nan        nan        nan 0.8052931  0.80526373 0.80542313\n",
      "        nan        nan        nan 0.80948581 0.80942987 0.80970704\n",
      "        nan        nan        nan 0.80929362 0.80943199 0.80961811\n",
      "        nan        nan        nan 0.80953374 0.80962566 0.80953545\n",
      "        nan        nan        nan 0.80974014 0.80966611 0.80945311\n",
      "        nan        nan        nan 0.81165567 0.81175667 0.81175913\n",
      "        nan        nan        nan 0.81174112 0.81162926 0.81158381\n",
      "        nan        nan        nan 0.81172497 0.81180037 0.81157491\n",
      "        nan        nan        nan 0.811762   0.81174931 0.81169431]\n",
      "  warnings.warn(\n"
     ]
    },
    {
     "name": "stdout",
     "output_type": "stream",
     "text": [
      "Score for the model with best parameters: 0.812\n",
      "Best parameters:  {'PCA__n_components': 25, 'clf__C': 0.1, 'clf__penalty': 'l2', 'clf__tol': 1e-05}\n"
     ]
    }
   ],
   "source": [
    "# Defining steps for the Pipeline\n",
    "steps = [('scaler',StandardScaler()),('sampling', SMOTE()), ('PCA',PCA()), ('clf',LogisticRegression())]\n",
    "\n",
    "# Defining parameter grid for grid search\n",
    "param_grid = {\n",
    "    'PCA__n_components': [5, 10, 15, 25],\n",
    "    'clf__penalty': ('l1', 'l2'),\n",
    "    'clf__tol': (0.0001, 0.00001, 0.0000001), \n",
    "    'clf__C': (10, 1, 0.1, 0.01),\n",
    "}\n",
    "\n",
    "lr_pipe = imb_pipe(steps = steps)\n",
    "\n",
    "# K fold \n",
    "strat_kf = StratifiedKFold(n_splits=5,\n",
    "                           shuffle=True,\n",
    "                           random_state=11)\n",
    "    \n",
    "lr_gs = GridSearchCV(lr_pipe, param_grid, scoring='roc_auc', cv = strat_kf, n_jobs=-1, verbose = 2)\n",
    "lr_gs.fit(X_train, y_train)\n",
    "print(\"Score for the model with best parameters:\", round(lr_gs.best_score_, 3))\n",
    "print(\"Best parameters: \", lr_gs.best_params_)"
   ]
  },
  {
   "cell_type": "markdown",
   "id": "1c802232",
   "metadata": {},
   "source": [
    "Here we see that the Logistic Regression model gives us an AUC score of 0.812, along with the best parameters for the model."
   ]
  },
  {
   "cell_type": "code",
   "execution_count": 45,
   "id": "ceed596b",
   "metadata": {},
   "outputs": [
    {
     "name": "stdout",
     "output_type": "stream",
     "text": [
      "AUC Score on the test set:  0.806\n"
     ]
    }
   ],
   "source": [
    "y_pred = lr_gs.best_estimator_.predict(X_test)\n",
    "y_pred_probs = lr_gs.best_estimator_.predict_proba(X_test)\n",
    "print(\"AUC Score on the test set: \", round(roc_auc_score(y_test, y_pred_probs[:,1]), 3))"
   ]
  },
  {
   "cell_type": "code",
   "execution_count": 74,
   "id": "e0da1305",
   "metadata": {},
   "outputs": [],
   "source": [
    "results.loc[0] = [\"Logistic Regression\", round(lr_gs.best_score_, 3), round(roc_auc_score(y_test, y_pred_probs[:,1]), 3)]"
   ]
  },
  {
   "cell_type": "code",
   "execution_count": 75,
   "id": "8f8630c5",
   "metadata": {},
   "outputs": [
    {
     "data": {
      "text/html": [
       "<div>\n",
       "<style scoped>\n",
       "    .dataframe tbody tr th:only-of-type {\n",
       "        vertical-align: middle;\n",
       "    }\n",
       "\n",
       "    .dataframe tbody tr th {\n",
       "        vertical-align: top;\n",
       "    }\n",
       "\n",
       "    .dataframe thead th {\n",
       "        text-align: right;\n",
       "    }\n",
       "</style>\n",
       "<table border=\"1\" class=\"dataframe\">\n",
       "  <thead>\n",
       "    <tr style=\"text-align: right;\">\n",
       "      <th></th>\n",
       "      <th>Experiment Name</th>\n",
       "      <th>Cross fold train AUC</th>\n",
       "      <th>Val AUC</th>\n",
       "    </tr>\n",
       "  </thead>\n",
       "  <tbody>\n",
       "    <tr>\n",
       "      <th>0</th>\n",
       "      <td>Logistic Regression</td>\n",
       "      <td>0.812</td>\n",
       "      <td>0.806</td>\n",
       "    </tr>\n",
       "  </tbody>\n",
       "</table>\n",
       "</div>"
      ],
      "text/plain": [
       "       Experiment Name  Cross fold train AUC  Val AUC\n",
       "0  Logistic Regression                 0.812    0.806"
      ]
     },
     "execution_count": 75,
     "metadata": {},
     "output_type": "execute_result"
    }
   ],
   "source": [
    "results"
   ]
  },
  {
   "cell_type": "markdown",
   "id": "84cd7d02",
   "metadata": {},
   "source": [
    "We are getting an AUC score of 0.806 on the held out test (validation) set created during the test train split. This is close to the validation score of 0.811 that we got during cross fold validation. Now we will test other models similarly using grid search."
   ]
  },
  {
   "cell_type": "code",
   "execution_count": null,
   "id": "55977479",
   "metadata": {},
   "outputs": [],
   "source": []
  },
  {
   "cell_type": "code",
   "execution_count": null,
   "id": "a82a620f",
   "metadata": {},
   "outputs": [],
   "source": []
  },
  {
   "cell_type": "markdown",
   "id": "7e42d302",
   "metadata": {},
   "source": [
    "### Naive Bayes"
   ]
  },
  {
   "cell_type": "code",
   "execution_count": 31,
   "id": "5034cd1f",
   "metadata": {},
   "outputs": [
    {
     "name": "stdout",
     "output_type": "stream",
     "text": [
      "Fitting 3 folds for each of 1 candidates, totalling 3 fits\n",
      "Score for the model with best parameters: 0.699\n",
      "Best parameters:  {}\n"
     ]
    }
   ],
   "source": [
    "# Defining steps for the Pipeline\n",
    "steps = [('scaler',StandardScaler()),('sampling', SMOTE()), ('PCA',PCA()), ('nb',GaussianNB())]\n",
    "\n",
    "nb_pipe = imb_pipe(steps = steps)\n",
    "\n",
    "# K fold \n",
    "strat_kf = StratifiedKFold(n_splits=3,shuffle=True, random_state=11)\n",
    "    \n",
    "nb_gs = GridSearchCV(nb_pipe, param_grid = {}, scoring='roc_auc', cv = strat_kf, n_jobs=-1, verbose = 2)\n",
    "nb_gs.fit(X_train, y_train)\n",
    "print(\"Score for the model with best parameters:\", round(nb_gs.best_score_, 3))\n",
    "print(\"Best parameters: \", nb_gs.best_params_)"
   ]
  },
  {
   "cell_type": "code",
   "execution_count": 32,
   "id": "a3d2f9c4",
   "metadata": {},
   "outputs": [
    {
     "name": "stdout",
     "output_type": "stream",
     "text": [
      "AUC Score on the test set:  0.718\n"
     ]
    }
   ],
   "source": [
    "y_pred = nb_gs.best_estimator_.predict(X_test)\n",
    "y_pred_probs = nb_gs.best_estimator_.predict_proba(X_test)\n",
    "print(\"AUC Score on the test set: \", round(roc_auc_score(y_test, y_pred_probs[:,1]), 3))"
   ]
  },
  {
   "cell_type": "code",
   "execution_count": 33,
   "id": "e1f83545",
   "metadata": {},
   "outputs": [],
   "source": [
    "results.loc[2] = [\"Gaussian NB\", round(nb_gs.best_score_, 3), round(roc_auc_score(y_test, y_pred_probs[:,1]), 3)]"
   ]
  },
  {
   "cell_type": "code",
   "execution_count": 34,
   "id": "a41adcef",
   "metadata": {},
   "outputs": [
    {
     "data": {
      "text/html": [
       "<div>\n",
       "<style scoped>\n",
       "    .dataframe tbody tr th:only-of-type {\n",
       "        vertical-align: middle;\n",
       "    }\n",
       "\n",
       "    .dataframe tbody tr th {\n",
       "        vertical-align: top;\n",
       "    }\n",
       "\n",
       "    .dataframe thead th {\n",
       "        text-align: right;\n",
       "    }\n",
       "</style>\n",
       "<table border=\"1\" class=\"dataframe\">\n",
       "  <thead>\n",
       "    <tr style=\"text-align: right;\">\n",
       "      <th></th>\n",
       "      <th>Experiment Name</th>\n",
       "      <th>Cross fold train AUC</th>\n",
       "      <th>Val AUC</th>\n",
       "    </tr>\n",
       "  </thead>\n",
       "  <tbody>\n",
       "    <tr>\n",
       "      <th>0</th>\n",
       "      <td>Logistic Regression</td>\n",
       "      <td>0.812</td>\n",
       "      <td>0.806</td>\n",
       "    </tr>\n",
       "    <tr>\n",
       "      <th>1</th>\n",
       "      <td>Gaussian NB</td>\n",
       "      <td>0.699</td>\n",
       "      <td>0.718</td>\n",
       "    </tr>\n",
       "  </tbody>\n",
       "</table>\n",
       "</div>"
      ],
      "text/plain": [
       "       Experiment Name  Cross fold train AUC  Val AUC\n",
       "0  Logistic Regression                 0.812    0.806\n",
       "1          Gaussian NB                 0.699    0.718"
      ]
     },
     "execution_count": 34,
     "metadata": {},
     "output_type": "execute_result"
    }
   ],
   "source": [
    "results"
   ]
  },
  {
   "cell_type": "markdown",
   "id": "0ffc772a",
   "metadata": {},
   "source": [
    "### K-Nearest Neighbors"
   ]
  },
  {
   "cell_type": "code",
   "execution_count": null,
   "id": "c4c7ea2d",
   "metadata": {
    "colab": {
     "background_save": true,
     "base_uri": "https://localhost:8080/"
    },
    "id": "c4c7ea2d",
    "outputId": "1e6e46cd-531e-4b4c-ff92-3c9ed3998c7c"
   },
   "outputs": [
    {
     "name": "stdout",
     "output_type": "stream",
     "text": [
      "Fitting 5 folds for each of 32 candidates, totalling 160 fits\n"
     ]
    },
    {
     "name": "stderr",
     "output_type": "stream",
     "text": [
      "/usr/local/lib/python3.7/dist-packages/joblib/externals/loky/process_executor.py:705: UserWarning: A worker stopped while some jobs were given to the executor. This can be caused by a too short worker timeout or by a memory leak.\n",
      "  \"timeout or by a memory leak.\", UserWarning\n"
     ]
    },
    {
     "name": "stdout",
     "output_type": "stream",
     "text": [
      "Score for the model with best parameters: 0.722\n",
      "Best parameters:  {'PCA__n_components': 15, 'knn__n_neighbors': 7, 'knn__p': 1, 'knn__weights': 'uniform'}\n"
     ]
    }
   ],
   "source": [
    "# Defining steps for the Pipeline\n",
    "steps = [('scaler',StandardScaler()),('sampling', SMOTE()), ('PCA',PCA()), ('knn',KNeighborsClassifier())]\n",
    "\n",
    "# Defining parameter grid for grid search\n",
    "param_grid = {\n",
    "    'PCA__n_components': [5, 10, 15, 25],\n",
    "    \"knn__weights\": ['uniform', 'distance'],\n",
    "    \"knn__n_neighbors\" : [2,7],\n",
    "    \"knn__p\":[1,2]\n",
    "}\n",
    "\n",
    "knn_pipe = imb_pipe(steps = steps)\n",
    "\n",
    "# K fold \n",
    "strat_kf = StratifiedKFold(n_splits=5,shuffle=True, random_state=11)\n",
    "    \n",
    "knn_gs = GridSearchCV(knn_pipe, param_grid, scoring='roc_auc', cv = strat_kf, n_jobs=-1, verbose = 2)\n",
    "knn_gs.fit(X_train, y_train)\n",
    "print(\"Score for the model with best parameters:\", round(knn_gs.best_score_, 3))\n",
    "print(\"Best parameters: \", knn_gs.best_params_)"
   ]
  },
  {
   "cell_type": "code",
   "execution_count": 46,
   "id": "686c07b5",
   "metadata": {
    "colab": {
     "base_uri": "https://localhost:8080/"
    },
    "id": "686c07b5",
    "outputId": "472a00e3-eaa6-4f71-f806-ca12846bf3fd"
   },
   "outputs": [
    {
     "name": "stdout",
     "output_type": "stream",
     "text": [
      "AUC Score on the test set:  0.715\n"
     ]
    }
   ],
   "source": [
    "y_pred = knn_gs.best_estimator_.predict(X_test)\n",
    "y_pred_probs = knn_gs.best_estimator_.predict_proba(X_test)\n",
    "print(\"AUC Score on the test set: \", round(roc_auc_score(y_test, y_pred_probs[:,1]), 3))"
   ]
  },
  {
   "cell_type": "code",
   "execution_count": 76,
   "id": "5937b01b",
   "metadata": {
    "id": "5034cd1f"
   },
   "outputs": [],
   "source": [
    "results.loc[2] = [\"KNN\", round(knn_gs.best_score_, 3), round(roc_auc_score(y_test, y_pred_probs[:,1]), 3)]"
   ]
  },
  {
   "cell_type": "code",
   "execution_count": 77,
   "id": "JwonkHImQEfm",
   "metadata": {
    "colab": {
     "base_uri": "https://localhost:8080/",
     "height": 112
    },
    "id": "JwonkHImQEfm",
    "outputId": "974f983d-c56c-44bf-9f59-7118547be4f6"
   },
   "outputs": [
    {
     "data": {
      "text/html": [
       "<div>\n",
       "<style scoped>\n",
       "    .dataframe tbody tr th:only-of-type {\n",
       "        vertical-align: middle;\n",
       "    }\n",
       "\n",
       "    .dataframe tbody tr th {\n",
       "        vertical-align: top;\n",
       "    }\n",
       "\n",
       "    .dataframe thead th {\n",
       "        text-align: right;\n",
       "    }\n",
       "</style>\n",
       "<table border=\"1\" class=\"dataframe\">\n",
       "  <thead>\n",
       "    <tr style=\"text-align: right;\">\n",
       "      <th></th>\n",
       "      <th>Experiment Name</th>\n",
       "      <th>Cross fold train AUC</th>\n",
       "      <th>Val AUC</th>\n",
       "    </tr>\n",
       "  </thead>\n",
       "  <tbody>\n",
       "    <tr>\n",
       "      <th>0</th>\n",
       "      <td>Logistic Regression</td>\n",
       "      <td>0.812</td>\n",
       "      <td>0.806</td>\n",
       "    </tr>\n",
       "    <tr>\n",
       "      <th>1</th>\n",
       "      <td>Gaussian NB</td>\n",
       "      <td>0.699</td>\n",
       "      <td>0.718</td>\n",
       "    </tr>\n",
       "    <tr>\n",
       "      <th>2</th>\n",
       "      <td>KNN</td>\n",
       "      <td>0.722</td>\n",
       "      <td>0.715</td>\n",
       "    </tr>\n",
       "  </tbody>\n",
       "</table>\n",
       "</div>"
      ],
      "text/plain": [
       "       Experiment Name  Cross fold train AUC  Val AUC\n",
       "0  Logistic Regression                 0.812    0.806\n",
       "1          Gaussian NB                 0.699    0.718\n",
       "2                  KNN                 0.722    0.715"
      ]
     },
     "execution_count": 77,
     "metadata": {},
     "output_type": "execute_result"
    }
   ],
   "source": [
    "results"
   ]
  },
  {
   "cell_type": "markdown",
   "id": "a862462e",
   "metadata": {},
   "source": [
    "### Random Forest Classifier"
   ]
  },
  {
   "cell_type": "code",
   "execution_count": 21,
   "id": "568e7386",
   "metadata": {},
   "outputs": [
    {
     "name": "stdout",
     "output_type": "stream",
     "text": [
      "Fitting 3 folds for each of 216 candidates, totalling 648 fits\n",
      "Score for the model with best parameters: 0.799\n",
      "Best parameters:  {'rf__bootstrap': False, 'rf__criterion': 'gini', 'rf__max_depth': None, 'rf__max_features': 3, 'rf__min_samples_leaf': 10, 'rf__min_samples_split': 5, 'rf__n_estimators': 300}\n"
     ]
    }
   ],
   "source": [
    "# Defining steps for the Pipeline\n",
    "steps = [('sampling', SMOTE()), ('PCA',PCA(n_components = 20)), ('rf',RandomForestClassifier())]\n",
    "\n",
    "# Defining parameter grid for grid search\n",
    "param_grid = {\n",
    "        'rf__max_depth': [None],\n",
    "        'rf__max_features': [1, 3, 10],\n",
    "        'rf__min_samples_split': [5, 10, 15],\n",
    "        'rf__min_samples_leaf': [3, 5, 10],\n",
    "        'rf__bootstrap': [False],\n",
    "        'rf__n_estimators':[80, 150, 200, 300],\n",
    "        'rf__criterion':['gini','entropy']\n",
    "}\n",
    "\n",
    "rf_pipe = imb_pipe(steps = steps)\n",
    "\n",
    "# K fold \n",
    "strat_kf = StratifiedKFold(n_splits=3,shuffle=True, random_state=11)\n",
    "    \n",
    "rf_gs = GridSearchCV(rf_pipe, param_grid, scoring='roc_auc', cv = strat_kf, n_jobs=-1, verbose = 2)\n",
    "rf_gs.fit(X_train, y_train)\n",
    "print(\"Score for the model with best parameters:\", round(rf_gs.best_score_, 3))\n",
    "print(\"Best parameters: \", rf_gs.best_params_)"
   ]
  },
  {
   "cell_type": "code",
   "execution_count": 22,
   "id": "169e0325",
   "metadata": {},
   "outputs": [
    {
     "name": "stdout",
     "output_type": "stream",
     "text": [
      "AUC Score on the test set:  0.807\n"
     ]
    }
   ],
   "source": [
    "y_pred = rf_gs.best_estimator_.predict(X_test)\n",
    "y_pred_probs = rf_gs.best_estimator_.predict_proba(X_test)\n",
    "print(\"AUC Score on the test set: \", round(roc_auc_score(y_test, y_pred_probs[:,1]), 3))"
   ]
  },
  {
   "cell_type": "code",
   "execution_count": 30,
   "id": "b0e0d175",
   "metadata": {},
   "outputs": [],
   "source": [
    "results.loc[3] = [\"Random Forest Classifier\", round(rf_gs.best_score_, 3), round(roc_auc_score(y_test, y_pred_probs[:,1]), 3)]"
   ]
  },
  {
   "cell_type": "code",
   "execution_count": 31,
   "id": "ada1f753",
   "metadata": {},
   "outputs": [
    {
     "data": {
      "text/html": [
       "<div>\n",
       "<style scoped>\n",
       "    .dataframe tbody tr th:only-of-type {\n",
       "        vertical-align: middle;\n",
       "    }\n",
       "\n",
       "    .dataframe tbody tr th {\n",
       "        vertical-align: top;\n",
       "    }\n",
       "\n",
       "    .dataframe thead th {\n",
       "        text-align: right;\n",
       "    }\n",
       "</style>\n",
       "<table border=\"1\" class=\"dataframe\">\n",
       "  <thead>\n",
       "    <tr style=\"text-align: right;\">\n",
       "      <th></th>\n",
       "      <th>Experiment Name</th>\n",
       "      <th>Cross fold train AUC</th>\n",
       "      <th>Val AUC</th>\n",
       "    </tr>\n",
       "  </thead>\n",
       "  <tbody>\n",
       "    <tr>\n",
       "      <th>0</th>\n",
       "      <td>Logistic Regression</td>\n",
       "      <td>0.812</td>\n",
       "      <td>0.806</td>\n",
       "    </tr>\n",
       "    <tr>\n",
       "      <th>1</th>\n",
       "      <td>Gaussian NB</td>\n",
       "      <td>0.699</td>\n",
       "      <td>0.718</td>\n",
       "    </tr>\n",
       "    <tr>\n",
       "      <th>2</th>\n",
       "      <td>KNN</td>\n",
       "      <td>0.722</td>\n",
       "      <td>0.715</td>\n",
       "    </tr>\n",
       "    <tr>\n",
       "      <th>3</th>\n",
       "      <td>Random Forest Classifier</td>\n",
       "      <td>0.799</td>\n",
       "      <td>0.807</td>\n",
       "    </tr>\n",
       "  </tbody>\n",
       "</table>\n",
       "</div>"
      ],
      "text/plain": [
       "            Experiment Name  Cross fold train AUC  Val AUC\n",
       "0       Logistic Regression                 0.812    0.806\n",
       "1               Gaussian NB                 0.699    0.718\n",
       "2                       KNN                 0.722    0.715\n",
       "3  Random Forest Classifier                 0.799    0.807"
      ]
     },
     "execution_count": 31,
     "metadata": {},
     "output_type": "execute_result"
    }
   ],
   "source": [
    "results"
   ]
  },
  {
   "cell_type": "code",
   "execution_count": null,
   "id": "5b72acf9",
   "metadata": {},
   "outputs": [],
   "source": []
  },
  {
   "cell_type": "code",
   "execution_count": 19,
   "id": "0e9f5f6e",
   "metadata": {},
   "outputs": [
    {
     "name": "stdout",
     "output_type": "stream",
     "text": [
      "Fitting 3 folds for each of 60 candidates, totalling 180 fits\n"
     ]
    },
    {
     "name": "stderr",
     "output_type": "stream",
     "text": [
      "c:\\users\\parth\\pycharmprojects\\jupyternotebook\\jupyter-venv\\lib\\site-packages\\xgboost\\sklearn.py:1224: UserWarning: The use of label encoder in XGBClassifier is deprecated and will be removed in a future release. To remove this warning, do the following: 1) Pass option use_label_encoder=False when constructing XGBClassifier object; and 2) Encode your labels (y) as integers starting with 0, i.e. 0, 1, 2, ..., [num_class - 1].\n",
      "  warnings.warn(label_encoder_deprecation_msg, UserWarning)\n"
     ]
    },
    {
     "name": "stdout",
     "output_type": "stream",
     "text": [
      "[03:40:00] WARNING: C:/Users/Administrator/workspace/xgboost-win64_release_1.5.1/src/learner.cc:1115: Starting in XGBoost 1.3.0, the default evaluation metric used with the objective 'binary:logistic' was changed from 'error' to 'logloss'. Explicitly set eval_metric if you'd like to restore the old behavior.\n",
      "Score for the model with best parameters: 0.786\n",
      "Best parameters:  {'PCA__n_components': 25, 'xgb__max_depth': 2, 'xgb__n_estimators': 100}\n"
     ]
    }
   ],
   "source": [
    "# Defining steps for the Pipeline\n",
    "steps = [('sampling', SMOTE()), ('PCA',PCA()), ('xgb',XGBClassifier())]\n",
    "\n",
    "# Defining parameter grid for grid search\n",
    "param_grid = {\n",
    "    'PCA__n_components': [5, 10, 15, 25],\n",
    "    'xgb__max_depth': [2, 3, 5, 7, 10],\n",
    "    'xgb__n_estimators': [10, 100, 500],\n",
    "}\n",
    "\n",
    "xgb_pipe = imb_pipe(steps = steps)\n",
    "\n",
    "# K fold \n",
    "strat_kf = StratifiedKFold(n_splits=3,shuffle=True, random_state=11)\n",
    "    \n",
    "xgb_gs = GridSearchCV(xgb_pipe, param_grid, scoring='roc_auc', cv = strat_kf, n_jobs=-1, verbose = 2)\n",
    "xgb_gs.fit(X_train, y_train)\n",
    "print(\"Score for the model with best parameters:\", round(xgb_gs.best_score_, 3))\n",
    "print(\"Best parameters: \", xgb_gs.best_params_)"
   ]
  },
  {
   "cell_type": "code",
   "execution_count": 35,
   "id": "c7b40870",
   "metadata": {},
   "outputs": [
    {
     "name": "stdout",
     "output_type": "stream",
     "text": [
      "AUC Score on the test set:  0.794\n"
     ]
    }
   ],
   "source": [
    "y_pred = xgb_gs.best_estimator_.predict(X_test)\n",
    "y_pred_probs = xgb_gs.best_estimator_.predict_proba(X_test)\n",
    "print(\"AUC Score on the test set: \", round(roc_auc_score(y_test, y_pred_probs[:,1]), 3))"
   ]
  },
  {
   "cell_type": "code",
   "execution_count": 36,
   "id": "312938d0",
   "metadata": {},
   "outputs": [],
   "source": [
    "results.loc[4] = [\"XGBoost\", round(xgb_gs.best_score_, 3), round(roc_auc_score(y_test, y_pred_probs[:,1]), 3)]"
   ]
  },
  {
   "cell_type": "code",
   "execution_count": 61,
   "id": "5cdc3e9a",
   "metadata": {},
   "outputs": [
    {
     "data": {
      "text/html": [
       "<div>\n",
       "<style scoped>\n",
       "    .dataframe tbody tr th:only-of-type {\n",
       "        vertical-align: middle;\n",
       "    }\n",
       "\n",
       "    .dataframe tbody tr th {\n",
       "        vertical-align: top;\n",
       "    }\n",
       "\n",
       "    .dataframe thead th {\n",
       "        text-align: right;\n",
       "    }\n",
       "</style>\n",
       "<table border=\"1\" class=\"dataframe\">\n",
       "  <thead>\n",
       "    <tr style=\"text-align: right;\">\n",
       "      <th></th>\n",
       "      <th>Experiment Name</th>\n",
       "      <th>Cross fold train AUC</th>\n",
       "      <th>Val AUC</th>\n",
       "    </tr>\n",
       "  </thead>\n",
       "  <tbody>\n",
       "    <tr>\n",
       "      <th>0</th>\n",
       "      <td>Logistic Regression</td>\n",
       "      <td>0.812</td>\n",
       "      <td>0.806</td>\n",
       "    </tr>\n",
       "    <tr>\n",
       "      <th>1</th>\n",
       "      <td>Gaussian NB</td>\n",
       "      <td>0.699</td>\n",
       "      <td>0.718</td>\n",
       "    </tr>\n",
       "    <tr>\n",
       "      <th>2</th>\n",
       "      <td>KNN</td>\n",
       "      <td>0.722</td>\n",
       "      <td>0.715</td>\n",
       "    </tr>\n",
       "    <tr>\n",
       "      <th>3</th>\n",
       "      <td>Random Forest Classifier</td>\n",
       "      <td>0.799</td>\n",
       "      <td>0.807</td>\n",
       "    </tr>\n",
       "    <tr>\n",
       "      <th>4</th>\n",
       "      <td>XGBoost</td>\n",
       "      <td>0.786</td>\n",
       "      <td>0.794</td>\n",
       "    </tr>\n",
       "  </tbody>\n",
       "</table>\n",
       "</div>"
      ],
      "text/plain": [
       "            Experiment Name  Cross fold train AUC  Val AUC\n",
       "0       Logistic Regression                 0.812    0.806\n",
       "1               Gaussian NB                 0.699    0.718\n",
       "2                       KNN                 0.722    0.715\n",
       "3  Random Forest Classifier                 0.799    0.807\n",
       "4                   XGBoost                 0.786    0.794"
      ]
     },
     "execution_count": 61,
     "metadata": {},
     "output_type": "execute_result"
    }
   ],
   "source": [
    "results"
   ]
  },
  {
   "cell_type": "markdown",
   "id": "973d5090",
   "metadata": {},
   "source": [
    "### Predicting on the unseen Test Data using the 2 Models (Logistic Regression and Random Forests)"
   ]
  },
  {
   "cell_type": "code",
   "execution_count": 38,
   "id": "4244ec32",
   "metadata": {},
   "outputs": [],
   "source": [
    "X_test_unseen = test.drop(['default'], axis = 1)\n",
    "y_test_unseen = test['default']"
   ]
  },
  {
   "cell_type": "code",
   "execution_count": 46,
   "id": "77b69451",
   "metadata": {},
   "outputs": [
    {
     "name": "stdout",
     "output_type": "stream",
     "text": [
      "AUC score on the unseen test set:  0.819\n"
     ]
    }
   ],
   "source": [
    "y_pred_probs_lr = lr_gs.best_estimator_.predict_proba(X_test_unseen)\n",
    "print(\"AUC score on the unseen test set: \", round(roc_auc_score(y_test_unseen, y_pred_probs_lr[:,1]), 3))"
   ]
  },
  {
   "cell_type": "code",
   "execution_count": 47,
   "id": "ac2a057a",
   "metadata": {},
   "outputs": [
    {
     "name": "stdout",
     "output_type": "stream",
     "text": [
      "AUC score on the unseen test set:  0.806\n"
     ]
    }
   ],
   "source": [
    "y_pred_probs_rf = rf_gs.best_estimator_.predict_proba(X_test_unseen)\n",
    "print(\"AUC score on the unseen test set: \", round(roc_auc_score(y_test_unseen, y_pred_probs_rf[:,1]), 3))"
   ]
  },
  {
   "cell_type": "code",
   "execution_count": 58,
   "id": "98311c95",
   "metadata": {},
   "outputs": [],
   "source": [
    "np.savetxt(\"result1.csv\",y_pred_probs_lr[:,1], delimiter=\",\")"
   ]
  },
  {
   "cell_type": "code",
   "execution_count": 59,
   "id": "0c32a2da",
   "metadata": {},
   "outputs": [],
   "source": [
    "np.savetxt(\"result2.csv\",y_pred_probs_rf[:,1], delimiter=\",\")"
   ]
  },
  {
   "cell_type": "code",
   "execution_count": null,
   "id": "8659f0e8",
   "metadata": {},
   "outputs": [],
   "source": []
  }
 ],
 "metadata": {
  "kernelspec": {
   "display_name": "Python 3 (ipykernel)",
   "language": "python",
   "name": "python3"
  },
  "language_info": {
   "codemirror_mode": {
    "name": "ipython",
    "version": 3
   },
   "file_extension": ".py",
   "mimetype": "text/x-python",
   "name": "python",
   "nbconvert_exporter": "python",
   "pygments_lexer": "ipython3",
   "version": "3.8.10"
  }
 },
 "nbformat": 4,
 "nbformat_minor": 5
}
